{
 "cells": [
  {
   "cell_type": "markdown",
   "id": "227af024",
   "metadata": {},
   "source": [
    "# EDA AdventuresWorks\n"
   ]
  },
  {
   "cell_type": "markdown",
   "id": "04c41aaf",
   "metadata": {},
   "source": [
    "Este es un EDA para cuyo fin es demostrar las skills del autor."
   ]
  },
  {
   "cell_type": "markdown",
   "id": "1c628ab3",
   "metadata": {},
   "source": [
    "Los objetivos seran:\n",
    "- Identificar los productos más y menos vendidos por Internet\n",
    "- Analizar la relación entre atributos del producto y su desempeño en ventas\n",
    "- Analizar la evolución de las ventas online en el tiempo\n",
    "- Segmentar los productos en función de su rentabilidad\n",
    "- Detectar productos con alto inventario y baja venta"
   ]
  },
  {
   "cell_type": "markdown",
   "id": "cfdd35b5",
   "metadata": {},
   "source": [
    "Los datos de este EDA fueron obtenidos desde https://learn.microsoft.com/en-us/sql/samples/adventureworks-install-configure?view=sql-server-ver16&tabs=ssms"
   ]
  },
  {
   "cell_type": "markdown",
   "id": "18990320",
   "metadata": {},
   "source": [
    "### Carga de las librerias a utilizar"
   ]
  },
  {
   "cell_type": "code",
   "execution_count": 69,
   "id": "11327d23",
   "metadata": {},
   "outputs": [],
   "source": [
    "import pandas as pd\n",
    "import numpy as np\n",
    "import pyodbc\n",
    "import sqlalchemy\n",
    "import os\n",
    "from dotenv import load_dotenv\n",
    "import matplotlib.pyplot as plt\n",
    "import seaborn as sns"
   ]
  },
  {
   "cell_type": "markdown",
   "id": "2ac6889a",
   "metadata": {},
   "source": [
    "### Conexion a BD"
   ]
  },
  {
   "cell_type": "code",
   "execution_count": 2,
   "id": "03b6aa15",
   "metadata": {},
   "outputs": [
    {
     "name": "stdout",
     "output_type": "stream",
     "text": [
      "Conexión exitosa a la base de datos.\n"
     ]
    }
   ],
   "source": [
    "# Cargar las variables del .env\n",
    "load_dotenv()\n",
    "\n",
    "server = os.getenv('DB_SERVER')\n",
    "database = os.getenv('DB_DATABASE')\n",
    "username = os.getenv('DB_USERNAME')\n",
    "password = os.getenv('DB_PASSWORD')\n",
    "\n",
    "# Crear la cadena de conexión\n",
    "connection_string = f\"mssql+pyodbc://{username}:{password}@{server}/{database}?driver=ODBC+Driver+17+for+SQL+Server\"\n",
    "engine = sqlalchemy.create_engine(connection_string)\n",
    "\n",
    "\n",
    "\n",
    "# probar la conexión\n",
    "try:\n",
    "    with engine.connect() as connection:\n",
    "        print(\"Conexión exitosa a la base de datos.\")\n",
    "except sqlalchemy.exc.OperationalError as e:\n",
    "    print(\"Error al conectar a la base de datos:\", e)\n",
    "    exit(1)\n"
   ]
  },
  {
   "cell_type": "markdown",
   "id": "b19feff8",
   "metadata": {},
   "source": [
    "## Analisis "
   ]
  },
  {
   "cell_type": "markdown",
   "id": "01099269",
   "metadata": {},
   "source": [
    "Se realizara analisis a las tablas de interes: \n",
    "- product \n",
    "- costumer \n",
    "- date\n",
    "- internetSales\n",
    "- ProductInventory\n"
   ]
  },
  {
   "cell_type": "code",
   "execution_count": 67,
   "id": "67dd0941",
   "metadata": {},
   "outputs": [],
   "source": [
    "query = \"\"\"\n",
    "SELECT \n",
    "    p.EnglishProductName AS nombre_producto,\n",
    "    SUM(fis.OrderQuantity) AS total_unidades_vendidas,\n",
    "    SUM(fis.SalesAmount) AS total_ventas\n",
    "FROM \n",
    "    FactInternetSales AS fis\n",
    "JOIN \n",
    "    DimProduct AS p ON fis.ProductKey = p.ProductKey\n",
    "GROUP BY \n",
    "    p.EnglishProductName\n",
    "ORDER BY \n",
    "    total_unidades_vendidas DESC;\n",
    "\"\"\"\n",
    "df_InternetSales = pd.read_sql(query, engine)"
   ]
  },
  {
   "cell_type": "code",
   "execution_count": 68,
   "id": "3daf658c",
   "metadata": {},
   "outputs": [
    {
     "data": {
      "text/html": [
       "<div>\n",
       "<style scoped>\n",
       "    .dataframe tbody tr th:only-of-type {\n",
       "        vertical-align: middle;\n",
       "    }\n",
       "\n",
       "    .dataframe tbody tr th {\n",
       "        vertical-align: top;\n",
       "    }\n",
       "\n",
       "    .dataframe thead th {\n",
       "        text-align: right;\n",
       "    }\n",
       "</style>\n",
       "<table border=\"1\" class=\"dataframe\">\n",
       "  <thead>\n",
       "    <tr style=\"text-align: right;\">\n",
       "      <th></th>\n",
       "      <th>nombre_producto</th>\n",
       "      <th>total_unidades_vendidas</th>\n",
       "      <th>total_ventas</th>\n",
       "    </tr>\n",
       "  </thead>\n",
       "  <tbody>\n",
       "    <tr>\n",
       "      <th>0</th>\n",
       "      <td>Water Bottle - 30 oz.</td>\n",
       "      <td>4244</td>\n",
       "      <td>21177.56</td>\n",
       "    </tr>\n",
       "    <tr>\n",
       "      <th>1</th>\n",
       "      <td>Patch Kit/8 Patches</td>\n",
       "      <td>3191</td>\n",
       "      <td>7307.39</td>\n",
       "    </tr>\n",
       "    <tr>\n",
       "      <th>2</th>\n",
       "      <td>Mountain Tire Tube</td>\n",
       "      <td>3095</td>\n",
       "      <td>15444.05</td>\n",
       "    </tr>\n",
       "    <tr>\n",
       "      <th>3</th>\n",
       "      <td>Road Tire Tube</td>\n",
       "      <td>2376</td>\n",
       "      <td>9480.24</td>\n",
       "    </tr>\n",
       "    <tr>\n",
       "      <th>4</th>\n",
       "      <td>Sport-100 Helmet, Red</td>\n",
       "      <td>2230</td>\n",
       "      <td>78027.70</td>\n",
       "    </tr>\n",
       "  </tbody>\n",
       "</table>\n",
       "</div>"
      ],
      "text/plain": [
       "         nombre_producto  total_unidades_vendidas  total_ventas\n",
       "0  Water Bottle - 30 oz.                     4244      21177.56\n",
       "1    Patch Kit/8 Patches                     3191       7307.39\n",
       "2     Mountain Tire Tube                     3095      15444.05\n",
       "3         Road Tire Tube                     2376       9480.24\n",
       "4  Sport-100 Helmet, Red                     2230      78027.70"
      ]
     },
     "execution_count": 68,
     "metadata": {},
     "output_type": "execute_result"
    }
   ],
   "source": [
    "df_InternetSales.head()"
   ]
  },
  {
   "cell_type": "code",
   "execution_count": null,
   "id": "437c4629",
   "metadata": {},
   "outputs": [],
   "source": [
    "top_10 = df_InternetSales.nlargest(10, 'total_unidades_vendidas')\n",
    "\n",
    "# Configurar gráfico\n",
    "plt.figure(figsize=(12, 6))\n",
    "sns.barplot(data=top_10, x='total_unidades_vendidas', y='nombre_producto', palette='Blues_d')\n",
    "\n",
    "plt.title('Top 10 productos más vendidos por Internet')\n",
    "plt.xlabel('Unidades vendidas')\n",
    "plt.ylabel('Producto')\n",
    "plt.tight_layout()\n",
    "plt.show()"
   ]
  }
 ],
 "metadata": {
  "kernelspec": {
   "display_name": "base",
   "language": "python",
   "name": "python3"
  },
  "language_info": {
   "codemirror_mode": {
    "name": "ipython",
    "version": 3
   },
   "file_extension": ".py",
   "mimetype": "text/x-python",
   "name": "python",
   "nbconvert_exporter": "python",
   "pygments_lexer": "ipython3",
   "version": "3.12.7"
  }
 },
 "nbformat": 4,
 "nbformat_minor": 5
}
